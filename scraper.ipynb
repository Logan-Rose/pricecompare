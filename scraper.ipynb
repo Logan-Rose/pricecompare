{
 "cells": [
  {
   "cell_type": "code",
   "execution_count": 2,
   "metadata": {},
   "outputs": [
    {
     "ename": "NameError",
     "evalue": "name 'cols' is not defined",
     "output_type": "error",
     "traceback": [
      "\u001b[0;31m---------------------------------------------------------------------------\u001b[0m",
      "\u001b[0;31mNameError\u001b[0m                                 Traceback (most recent call last)",
      "Cell \u001b[0;32mIn [2], line 43\u001b[0m\n\u001b[1;32m     41\u001b[0m \u001b[38;5;28mid\u001b[39m \u001b[38;5;241m=\u001b[39m DISP_IDS[disp]\n\u001b[1;32m     42\u001b[0m prods \u001b[38;5;241m=\u001b[39m getProducts(\u001b[38;5;28mid\u001b[39m)\n\u001b[0;32m---> 43\u001b[0m df \u001b[38;5;241m=\u001b[39m toDataFrame(prods)\n\u001b[1;32m     44\u001b[0m df\u001b[38;5;241m.\u001b[39mto_csv(path_or_buf\u001b[38;5;241m=\u001b[39m\u001b[38;5;124mf\u001b[39m\u001b[38;5;124m'\u001b[39m\u001b[38;5;124m./out/\u001b[39m\u001b[38;5;132;01m{\u001b[39;00mdisp\u001b[38;5;132;01m}\u001b[39;00m\u001b[38;5;124m.csv\u001b[39m\u001b[38;5;124m'\u001b[39m)\n",
      "Cell \u001b[0;32mIn [2], line 35\u001b[0m, in \u001b[0;36mtoDataFrame\u001b[0;34m(prodList)\u001b[0m\n\u001b[1;32m     33\u001b[0m infoDataFrame \u001b[38;5;241m=\u001b[39m pd\u001b[38;5;241m.\u001b[39mDataFrame(columns\u001b[38;5;241m=\u001b[39mCOLS)\n\u001b[1;32m     34\u001b[0m \u001b[38;5;28;01mfor\u001b[39;00m prod \u001b[38;5;129;01min\u001b[39;00m prodList:\n\u001b[0;32m---> 35\u001b[0m   row \u001b[38;5;241m=\u001b[39m pd\u001b[38;5;241m.\u001b[39mDataFrame([[prod[\u001b[38;5;124m'\u001b[39m\u001b[38;5;124mcName\u001b[39m\u001b[38;5;124m'\u001b[39m], prod[\u001b[38;5;124m'\u001b[39m\u001b[38;5;124mName\u001b[39m\u001b[38;5;124m'\u001b[39m], prod[\u001b[38;5;124m'\u001b[39m\u001b[38;5;124mbrandName\u001b[39m\u001b[38;5;124m'\u001b[39m], prod[\u001b[38;5;124m'\u001b[39m\u001b[38;5;124mPrices\u001b[39m\u001b[38;5;124m'\u001b[39m], prod[\u001b[38;5;124m'\u001b[39m\u001b[38;5;124mrecOnly\u001b[39m\u001b[38;5;124m'\u001b[39m],prod[\u001b[38;5;124m'\u001b[39m\u001b[38;5;124mrecSpecialPrices\u001b[39m\u001b[38;5;124m'\u001b[39m], prod[\u001b[38;5;124m'\u001b[39m\u001b[38;5;124mspecial\u001b[39m\u001b[38;5;124m'\u001b[39m], prod[\u001b[38;5;124m'\u001b[39m\u001b[38;5;124mspecialData\u001b[39m\u001b[38;5;124m'\u001b[39m], prod[\u001b[38;5;124m'\u001b[39m\u001b[38;5;124mtype\u001b[39m\u001b[38;5;124m'\u001b[39m], prod[\u001b[38;5;124m'\u001b[39m\u001b[38;5;124mwholesalePrices\u001b[39m\u001b[38;5;124m'\u001b[39m]]],columns\u001b[38;5;241m=\u001b[39m\u001b[43mcols\u001b[49m, index\u001b[38;5;241m=\u001b[39m[\u001b[38;5;124m'\u001b[39m\u001b[38;5;124m1\u001b[39m\u001b[38;5;124m'\u001b[39m])\n\u001b[1;32m     36\u001b[0m   infoDataFrame \u001b[38;5;241m=\u001b[39m infoDataFrame\u001b[38;5;241m.\u001b[39mappend(row, ignore_index\u001b[38;5;241m=\u001b[39m\u001b[38;5;28;01mTrue\u001b[39;00m)\n\u001b[1;32m     37\u001b[0m \u001b[38;5;28;01mreturn\u001b[39;00m infoDataFrame\n",
      "\u001b[0;31mNameError\u001b[0m: name 'cols' is not defined"
     ]
    }
   ],
   "source": [
    "import requests\n",
    "import json\n",
    "import numpy as np\n",
    "import pandas as pd\n",
    "\n",
    "DISP_IDS = {\n",
    "  \"flowertopia\": \"614cdcbdea191200a8a1ed2f\",\n",
    "  \"toke\" : \"5f8758560d683700eab65918\",\n",
    "  \"Shiva's rose\":\"5fdd352ebb29a301034435d5\",\n",
    "  \"Growers Retail\": \"5eb9a5221c1db800f8bd2a7d\"\n",
    "}\n",
    "\n",
    "COLS = [\n",
    "    'cName', \n",
    "    'name',\n",
    "    'brandName',\n",
    "    'Prices',\n",
    "    'recOnly',\n",
    "    'recPrices',\n",
    "    'special', \n",
    "    'specialData', \n",
    "    'type', \n",
    "    'wholesalePrices'\n",
    "]\n",
    "\n",
    "def getProducts(id):\n",
    "  x = requests.get(f'https://dutchie.com/graphql?operationName=FilteredProducts&variables=%7B%22includeEnterpriseSpecials%22%3Afalse%2C%22includeCannabinoids%22%3Atrue%2C%22productsFilter%22%3A%7B%22dispensaryId%22%3A%22{id}%22%2C%22pricingType%22%3A%22rec%22%2C%22strainTypes%22%3A%5B%5D%2C%22subcategories%22%3A%5B%5D%2C%22Status%22%3A%22Active%22%2C%22types%22%3A%5B%5D%2C%22useCache%22%3Afalse%2C%22sortDirection%22%3A1%2C%22sortBy%22%3Anull%2C%22isDefaultSort%22%3Atrue%2C%22bypassOnlineThresholds%22%3Afalse%2C%22isKioskMenu%22%3Afalse%2C%22removeProductsBelowOptionThresholds%22%3Atrue%7D%2C%22page%22%3A0%7D&extensions=%7B%22persistedQuery%22%3A%7B%22version%22%3A1%2C%22sha256Hash%22%3A%22699c79a80fc45daf41c34407247fd0c38dd698fd595d36501b90a3104931ef1a%22%7D%7D').text\n",
    "  clean = json.loads(x)\n",
    "  prodList = clean['data']['filteredProducts']['products']\n",
    "  return prodList\n",
    "\n",
    "def toDataFrame(prodList):\n",
    "  infoDataFrame = pd.DataFrame(columns=COLS)\n",
    "  for prod in prodList:\n",
    "    row = pd.DataFrame([[prod['cName'], prod['Name'], prod['brandName'], prod['Prices'], prod['recOnly'],prod['recSpecialPrices'], prod['special'], prod['specialData'], prod['type'], prod['wholesalePrices']]],columns=COLS, index=['1'])\n",
    "    infoDataFrame = infoDataFrame.append(row, ignore_index=True)\n",
    "  return infoDataFrame\n",
    "\n",
    "\n",
    "for disp in DISP_IDS:\n",
    "  id = DISP_IDS[disp]\n",
    "  prods = getProducts(id)\n",
    "  df = toDataFrame(prods)\n",
    "  df.to_csv(path_or_buf=f'./out/{disp}.csv')\n",
    "\n"
   ]
  }
 ],
 "metadata": {
  "kernelspec": {
   "display_name": "Python 3.10.6 ('pricecompare')",
   "language": "python",
   "name": "python3"
  },
  "language_info": {
   "codemirror_mode": {
    "name": "ipython",
    "version": 3
   },
   "file_extension": ".py",
   "mimetype": "text/x-python",
   "name": "python",
   "nbconvert_exporter": "python",
   "pygments_lexer": "ipython3",
   "version": "3.10.6"
  },
  "orig_nbformat": 4,
  "vscode": {
   "interpreter": {
    "hash": "82d11764641af6e6a7fd75c23d39e065bae25c9a0f68ea9bb4b121854b5e4519"
   }
  }
 },
 "nbformat": 4,
 "nbformat_minor": 2
}
